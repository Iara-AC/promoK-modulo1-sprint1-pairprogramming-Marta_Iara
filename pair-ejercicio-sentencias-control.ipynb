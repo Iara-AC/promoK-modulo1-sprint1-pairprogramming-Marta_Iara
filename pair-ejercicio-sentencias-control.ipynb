{
 "cells": [
  {
   "cell_type": "markdown",
   "metadata": {},
   "source": [
    "Ejercicios if-else\n"
   ]
  },
  {
   "cell_type": "code",
   "execution_count": 4,
   "metadata": {},
   "outputs": [
    {
     "name": "stdout",
     "output_type": "stream",
     "text": [
      "este numero es positivo\n"
     ]
    }
   ],
   "source": [
    "#Verificar si un número es positivo, negativo o cero\n",
    "\n",
    "#Descripción: Dado un número, verifica si es positivo, negativo o cero.\n",
    "\n",
    "numero1 = 97\n",
    "\n",
    "if numero1 < 0: \n",
    "    print (\"este numero es negativo\")\n",
    "elif numero1 == 0:\n",
    "    print(\"este numero es cero\")\n",
    "else:\n",
    "    print(\"este numero es positivo\") \n",
    "\n"
   ]
  },
  {
   "cell_type": "code",
   "execution_count": 8,
   "metadata": {},
   "outputs": [
    {
     "name": "stdout",
     "output_type": "stream",
     "text": [
      "es un numero impar\n"
     ]
    }
   ],
   "source": [
    "#Verificar si un número es par o impar\n",
    "\n",
    "#Descripción: Dado un número, verifica si es par o impar.\n",
    "\n",
    "if numero1 % 2 == 0:\n",
    "    print(\"este es un numero par\")\n",
    "else:\n",
    "    print(\"es un numero impar\")"
   ]
  },
  {
   "cell_type": "code",
   "execution_count": 11,
   "metadata": {},
   "outputs": [
    {
     "name": "stdout",
     "output_type": "stream",
     "text": [
      "es estudiante fue aprobado\n"
     ]
    }
   ],
   "source": [
    "#Verificar si un estudiante aprobó o suspendió un examen\n",
    "\n",
    "#Descripción: Dada la calificación de un estudiante en un examen, verifica si aprobó o suspendió (si la calificación es mayor o igual a 60 se considera aprobado).\n",
    "\n",
    "calificacion_estudiante = 54 + 45\n",
    "\n",
    "if calificacion_estudiante >= 60:\n",
    "    print(\"es estudiante fue aprobado\")\n",
    "else:\n",
    "    print(\"es estudiante ha sido suspenso\")"
   ]
  },
  {
   "cell_type": "code",
   "execution_count": 12,
   "metadata": {},
   "outputs": [
    {
     "name": "stdout",
     "output_type": "stream",
     "text": [
      "90\n"
     ]
    }
   ],
   "source": [
    "#Calcular el máximo entre dos números\n",
    "\n",
    "#Descripción: Dados dos números, encuentra el máximo entre ellos.\n",
    "\n",
    "numero2 = 45\n",
    "numero3 = 90\n",
    "\n",
    "lista1 = [numero2, numero3]\n",
    "\n",
    "print(max(lista1))\n"
   ]
  },
  {
   "cell_type": "code",
   "execution_count": 13,
   "metadata": {},
   "outputs": [
    {
     "name": "stdout",
     "output_type": "stream",
     "text": [
      "numero 3 es el máximo entre los dos números\n"
     ]
    }
   ],
   "source": [
    "if numero2 > numero3:\n",
    "    print(\"numero 2 es el máximo entre los dos números\")\n",
    "else:\n",
    "    print(\"numero 3 es el máximo entre los dos números\")"
   ]
  },
  {
   "cell_type": "code",
   "execution_count": 15,
   "metadata": {},
   "outputs": [
    {
     "name": "stdout",
     "output_type": "stream",
     "text": [
      "Esta letra i es una vocal\n"
     ]
    }
   ],
   "source": [
    "\n",
    "#Verificar si una letra es una vocal o una consonante\n",
    "\n",
    "#Descripción: Dada una letra, verifica si es una vocal o una consonante.\n",
    "\n",
    "vocal = [\"a\", \"e\", \"i\", \"o\", \"u\"]\n",
    "\n",
    "variable_ejemplo = \"i\"\n",
    "\n",
    "if variable_ejemplo in vocal:\n",
    "    print(f\"Esta letra {variable_ejemplo} es una vocal\")\n",
    "else:\n",
    "    print(f\"Esta letra {variable_ejemplo} es una consonante\")"
   ]
  },
  {
   "cell_type": "code",
   "execution_count": 10,
   "metadata": {},
   "outputs": [
    {
     "data": {
      "text/plain": [
       "True"
      ]
     },
     "execution_count": 10,
     "metadata": {},
     "output_type": "execute_result"
    }
   ],
   "source": [
    "variable_ejemplo in vocal"
   ]
  },
  {
   "cell_type": "code",
   "execution_count": 18,
   "metadata": {},
   "outputs": [
    {
     "name": "stdout",
     "output_type": "stream",
     "text": [
      "el precio final de la moto es: 4500.0\n"
     ]
    }
   ],
   "source": [
    "#Calcular el descuento en una compra según el monto total\n",
    "\n",
    "#Descripción: Dado el monto total de una compra, calcula el descuento aplicado según las siguientes condiciones: si el monto es mayor o igual a $100, aplica un descuento del 10%; de lo contrario, no aplica ningún descuento.\n",
    "\n",
    "moto_precio = 5000\n",
    "\n",
    "if moto_precio >= 100:\n",
    "    moto_precio = 5000 * 0.90\n",
    "    print(f\"el precio final de la moto es: {moto_precio}\")\n",
    "else:\n",
    "    print(\"no hay descuento\")\n",
    "\n"
   ]
  },
  {
   "cell_type": "code",
   "execution_count": 23,
   "metadata": {},
   "outputs": [
    {
     "name": "stdout",
     "output_type": "stream",
     "text": [
      "este 2024 es bisiesto\n"
     ]
    }
   ],
   "source": [
    "#Verificar si un año es bisiesto o no\n",
    "\n",
    "#Descripción: Dado un año, verifica si es bisiesto o no (un año es bisiesto si es divisible entre 4, excepto aquellos divisibles entre 100 pero no entre 400).\n",
    "\n",
    "ano = 2024\n",
    "\n",
    "if ano % 4 == 0:\n",
    "    print(f\"este {ano} es bisiesto\")\n",
    "else:\n",
    "    print(f\"este {ano} no es bisiesto\")"
   ]
  },
  {
   "cell_type": "code",
   "execution_count": 40,
   "metadata": {},
   "outputs": [
    {
     "name": "stdout",
     "output_type": "stream",
     "text": [
      "Adulto\n"
     ]
    }
   ],
   "source": [
    "\n",
    "#Asignar una categoría a una edad\n",
    "\n",
    "#Descripción: Dada una edad, asigna una categoría según las siguientes condiciones: si la edad es menor de 18, la categoría es \"Menor de edad\"; si la edad está entre 18 y 64 (incluyendo ambos), la categoría es \"Adulto\"; de lo contrario, la categoría es \"Adulto mayor\".\n",
    "\n",
    "\n",
    "edad_persona1 = 19\n",
    "\n",
    "if edad_persona1 < 18:\n",
    "    print(\"Menor de edad\")\n",
    "\n",
    "elif (18 <= edad_persona1 <= 64):\n",
    "    print(\"Adulto\")\n",
    "\n",
    "else:\n",
    "    print(\"Adulto Mayor\")\n"
   ]
  },
  {
   "cell_type": "code",
   "execution_count": 47,
   "metadata": {},
   "outputs": [
    {
     "name": "stdout",
     "output_type": "stream",
     "text": [
      "Los números forman un triángulo rectángulo.\n"
     ]
    }
   ],
   "source": [
    "#Verificar si tres números forman un triángulo rectángulo\n",
    "\n",
    "#Descripción: Dados tres números, verifica si forman un triángulo rectángulo (si se cumple el teorema de Pitágoras).\n",
    "\n",
    "lado1 = 3\n",
    "lado2 = 4\n",
    "lado3 = 5\n",
    "\n",
    "if lado1**2 + lado2**2 == lado3**2:\n",
    "        print(\"Los números forman un triángulo rectángulo.\")\n",
    "else:\n",
    "        print(\"Los números no forman un triángulo rectángulo.\")\n"
   ]
  },
  {
   "cell_type": "code",
   "execution_count": 51,
   "metadata": {},
   "outputs": [
    {
     "name": "stdout",
     "output_type": "stream",
     "text": [
      "Tu puntuación es de 48 y por esto tu calificación es la F\n"
     ]
    }
   ],
   "source": [
    "#Asignar una calificación a una puntuación\n",
    "\n",
    "#Descripción: Dada una puntuación, asigna una calificación según las siguientes condiciones: si la puntuación es mayor o igual a 90, la calificación es \"A\"; si es mayor o igual a 80, la calificación es \"B\"; si es mayor o igual a 70, la calificación es \"C\"; si es mayor o igual a 60, la calificación es \"D\"; de lo contrario, la calificación es \"F\".\n",
    "\n",
    "\n",
    "puntuación1 = 48\n",
    "\n",
    "if puntuación1 >= 90:\n",
    "    print(f\"Tu puntuación es de {puntuación1} y por esto tu calificación es la A\")\n",
    "\n",
    "elif 80 <= puntuación1 < 90:\n",
    "    print(f\"Tu puntuación es de {puntuación1} y por esto tu calificación es la B\")\n",
    "\n",
    "elif 70 <= puntuación1 < 80:\n",
    "    print(f\"Tu puntuación es de {puntuación1} y por esto tu calificación es la C\")\n",
    "\n",
    "elif 60 <= puntuación1 < 70:\n",
    "    print(f\"Tu puntuación es de {puntuación1} y por esto tu calificación es la D\")\n",
    "\n",
    "else:\n",
    "    print(f\"Tu puntuación es de {puntuación1} y por esto tu calificación es la F\")"
   ]
  }
 ],
 "metadata": {
  "kernelspec": {
   "display_name": "base",
   "language": "python",
   "name": "python3"
  },
  "language_info": {
   "codemirror_mode": {
    "name": "ipython",
    "version": 3
   },
   "file_extension": ".py",
   "mimetype": "text/x-python",
   "name": "python",
   "nbconvert_exporter": "python",
   "pygments_lexer": "ipython3",
   "version": "3.12.4"
  }
 },
 "nbformat": 4,
 "nbformat_minor": 2
}
