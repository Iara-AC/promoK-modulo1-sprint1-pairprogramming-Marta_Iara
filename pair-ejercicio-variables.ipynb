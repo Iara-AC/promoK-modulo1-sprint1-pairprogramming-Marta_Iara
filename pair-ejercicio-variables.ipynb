{
 "cells": [
  {
   "cell_type": "code",
   "execution_count": 1,
   "metadata": {},
   "outputs": [],
   "source": [
    "#Cread tres variables numéricas de tipo integer (entero), llamadas de la siguiente forma:\n",
    "\n",
    "numero1 = 3\n",
    "numero2 = 54\n",
    "numero3 = 90\n"
   ]
  },
  {
   "cell_type": "code",
   "execution_count": 2,
   "metadata": {},
   "outputs": [
    {
     "data": {
      "text/plain": [
       "False"
      ]
     },
     "execution_count": 2,
     "metadata": {},
     "output_type": "execute_result"
    }
   ],
   "source": [
    "#Utilizando los operadores lógicos:\n",
    "\n",
    "#En vuestro caso, es el numero1 mayor que el numero2\n",
    "\n",
    "numero1 > numero2 "
   ]
  },
  {
   "cell_type": "code",
   "execution_count": 5,
   "metadata": {},
   "outputs": [
    {
     "data": {
      "text/plain": [
       "False"
      ]
     },
     "execution_count": 5,
     "metadata": {},
     "output_type": "execute_result"
    }
   ],
   "source": [
    "#Es el numero1 menor que el numero2 pero mayor que el numero3\n",
    "\n",
    "numero2 > numero1 > numero3"
   ]
  },
  {
   "cell_type": "code",
   "execution_count": 6,
   "metadata": {},
   "outputs": [
    {
     "data": {
      "text/plain": [
       "False"
      ]
     },
     "execution_count": 6,
     "metadata": {},
     "output_type": "execute_result"
    }
   ],
   "source": [
    "#Es el numero3 igual que el numero2\n",
    "\n",
    "numero3 == numero2"
   ]
  },
  {
   "cell_type": "code",
   "execution_count": 7,
   "metadata": {},
   "outputs": [
    {
     "data": {
      "text/plain": [
       "True"
      ]
     },
     "execution_count": 7,
     "metadata": {},
     "output_type": "execute_result"
    }
   ],
   "source": [
    "#Es el numero2 distinto que el numero1\n",
    "\n",
    "numero2 != numero1"
   ]
  },
  {
   "cell_type": "code",
   "execution_count": 8,
   "metadata": {},
   "outputs": [],
   "source": [
    "#Cread dos variables numéricas de tipo float (decimal) con dos decimales, llamdas de la siguiente forma:\n",
    "\n",
    "altura1 = 2.50\n",
    "altura2 = 4.25"
   ]
  },
  {
   "cell_type": "code",
   "execution_count": 9,
   "metadata": {},
   "outputs": [
    {
     "data": {
      "text/plain": [
       "6.75"
      ]
     },
     "execution_count": 9,
     "metadata": {},
     "output_type": "execute_result"
    }
   ],
   "source": [
    "#Cuál es la suma de las dos alturas\n",
    "\n",
    "altura1 + altura2\n"
   ]
  },
  {
   "cell_type": "code",
   "execution_count": 10,
   "metadata": {},
   "outputs": [
    {
     "data": {
      "text/plain": [
       "-1.75"
      ]
     },
     "execution_count": 10,
     "metadata": {},
     "output_type": "execute_result"
    }
   ],
   "source": [
    "#Cuál es la diferencia entre las alturas\n",
    "\n",
    "altura1 - altura2\n"
   ]
  },
  {
   "cell_type": "code",
   "execution_count": 11,
   "metadata": {},
   "outputs": [
    {
     "data": {
      "text/plain": [
       "0.5882352941176471"
      ]
     },
     "execution_count": 11,
     "metadata": {},
     "output_type": "execute_result"
    }
   ],
   "source": [
    "#Cuál es el resto de la división de las dos alturas\n",
    "\n",
    "altura1 / altura2"
   ]
  },
  {
   "cell_type": "code",
   "execution_count": 13,
   "metadata": {},
   "outputs": [
    {
     "name": "stdout",
     "output_type": "stream",
     "text": [
      "0.6\n"
     ]
    }
   ],
   "source": [
    "#Cuál es resultado de la división de las dos alturas, redondead el resultado a un decimal.\n",
    "\n",
    "print(round(altura1/altura2,1))"
   ]
  },
  {
   "cell_type": "code",
   "execution_count": 14,
   "metadata": {},
   "outputs": [],
   "source": [
    "#Escribid un programa usando la función input() que le pregunte al usuario su nombre y apellidos.\n",
    "\n",
    "nombre = input('Cual es tu nombre?')\n",
    "apellido = input('Cual es tu apellido?')"
   ]
  },
  {
   "cell_type": "code",
   "execution_count": 16,
   "metadata": {},
   "outputs": [
    {
     "name": "stdout",
     "output_type": "stream",
     "text": [
      "Iara Alkmim\n"
     ]
    }
   ],
   "source": [
    "#Printead su nombre y apellidos todo en mayúsculas\n",
    "\n",
    "print(nombre, apellido)\n"
   ]
  },
  {
   "cell_type": "code",
   "execution_count": 2,
   "metadata": {},
   "outputs": [
    {
     "name": "stdout",
     "output_type": "stream",
     "text": [
      "13\n"
     ]
    }
   ],
   "source": [
    "numero4 = (13)\n",
    "\n",
    "print(numero4)\n"
   ]
  },
  {
   "cell_type": "code",
   "execution_count": 1,
   "metadata": {},
   "outputs": [
    {
     "name": "stdout",
     "output_type": "stream",
     "text": [
      "(4, 5, 6, 34, 90, 1, 8)\n"
     ]
    }
   ],
   "source": [
    "lista1 = (4,5,6,34,90,1,8)\n",
    "print(lista1)"
   ]
  }
 ],
 "metadata": {
  "kernelspec": {
   "display_name": "base",
   "language": "python",
   "name": "python3"
  },
  "language_info": {
   "codemirror_mode": {
    "name": "ipython",
    "version": 3
   },
   "file_extension": ".py",
   "mimetype": "text/x-python",
   "name": "python",
   "nbconvert_exporter": "python",
   "pygments_lexer": "ipython3",
   "version": "3.9.12"
  }
 },
 "nbformat": 4,
 "nbformat_minor": 2
}
